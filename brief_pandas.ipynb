{
 "cells": [
  {
   "cell_type": "markdown",
   "metadata": {},
   "source": [
    "# Brief Métier : Exploitation des Données Scrappées avec Pandas"
   ]
  },
  {
   "cell_type": "markdown",
   "metadata": {},
   "source": [
    "## Contexte Professionnel"
   ]
  },
  {
   "cell_type": "markdown",
   "metadata": {},
   "source": [
    "Après la phase de **scraping** réalisée sur des sites concurrents de Castorama, vous avez obtenu deux fichiers CSV :\n",
    "\n",
    "- categories.csv : contenant les informations relatives aux catégories et sous-catégories.\n",
    "- products.csv : contenant les informations relatives aux produits (nom, prix, disponibilité, promotions, etc.).\n",
    "\n",
    "En tant que **Data Analyst / Data Engineer**, votre rôle est désormais de **nettoyer**, **préparer** et **analyser** ces données afin d’en extraire des **informations pertinentes**. Ces informations permettront à Castorama de mieux comprendre l’état du marché, de mettre en place une stratégie tarifaire compétitive et d'anticiper les tendances."
   ]
  },
  {
   "cell_type": "markdown",
   "metadata": {},
   "source": [
    "## Installations"
   ]
  },
  {
   "cell_type": "code",
   "execution_count": null,
   "metadata": {},
   "outputs": [],
   "source": [
    "%pip install --upgrade pip\n",
    "%pip install ipykernel\n",
    "%pip install pandas\n",
    "%pip install numpy\n",
    "%pip install matplotlib\n",
    "%pip install seaborn\n",
    "%pip install graphviz"
   ]
  },
  {
   "cell_type": "markdown",
   "metadata": {},
   "source": [
    "## Importations"
   ]
  },
  {
   "cell_type": "code",
   "execution_count": 4,
   "metadata": {},
   "outputs": [],
   "source": [
    "import pandas as pd\n",
    "import numpy as np\n",
    "import matplotlib.pyplot as plt\n",
    "import seaborn as sns\n",
    "import unicodedata\n",
    "import re\n",
    "import logging"
   ]
  },
  {
   "cell_type": "markdown",
   "metadata": {},
   "source": [
    "## Chargement des Données"
   ]
  },
  {
   "cell_type": "code",
   "execution_count": 5,
   "metadata": {},
   "outputs": [],
   "source": [
    "# Load category data\n",
    "category_data = pd.read_csv(\"castorama_categories.csv\")\n",
    "\n",
    "# Load products data\n",
    "product_data = pd.read_csv(\"castorama_products.csv\")"
   ]
  },
  {
   "cell_type": "code",
   "execution_count": null,
   "metadata": {},
   "outputs": [],
   "source": [
    "# Confirm category data loaded correctly\n",
    "category_data"
   ]
  },
  {
   "cell_type": "code",
   "execution_count": null,
   "metadata": {},
   "outputs": [],
   "source": [
    "# Confirm product data loaded correctly\n",
    "product_data"
   ]
  },
  {
   "cell_type": "markdown",
   "metadata": {},
   "source": [
    "## Exploration\n",
    "\n",
    "### Aperçu des données"
   ]
  },
  {
   "cell_type": "code",
   "execution_count": null,
   "metadata": {},
   "outputs": [],
   "source": [
    "# Get information about category_data\n",
    "category_data.info()"
   ]
  },
  {
   "cell_type": "code",
   "execution_count": null,
   "metadata": {},
   "outputs": [],
   "source": [
    "# Get information about product_data\n",
    "product_data.info()"
   ]
  },
  {
   "cell_type": "code",
   "execution_count": null,
   "metadata": {},
   "outputs": [],
   "source": [
    "# View category_data summary statistics \n",
    "category_data.describe()"
   ]
  },
  {
   "cell_type": "code",
   "execution_count": null,
   "metadata": {},
   "outputs": [],
   "source": [
    "# View product_data summary statistics \n",
    "product_data.describe()"
   ]
  },
  {
   "cell_type": "code",
   "execution_count": null,
   "metadata": {},
   "outputs": [],
   "source": [
    "# View first 5 data in category_data\n",
    "category_data.head()"
   ]
  },
  {
   "cell_type": "code",
   "execution_count": null,
   "metadata": {},
   "outputs": [],
   "source": [
    "# View first 5 data in product_data\n",
    "product_data.head()"
   ]
  },
  {
   "cell_type": "markdown",
   "metadata": {},
   "source": [
    "## Nettoyage et Préparation des Données"
   ]
  },
  {
   "cell_type": "markdown",
   "metadata": {},
   "source": [
    "### Category_data.csv"
   ]
  },
  {
   "cell_type": "code",
   "execution_count": 6,
   "metadata": {},
   "outputs": [],
   "source": [
    "# Duplicate raw data\n",
    "cdf = category_data.copy()"
   ]
  },
  {
   "cell_type": "code",
   "execution_count": null,
   "metadata": {},
   "outputs": [],
   "source": [
    "# Check for missing data\n",
    "cdf.isna().sum()"
   ]
  },
  {
   "cell_type": "code",
   "execution_count": 4,
   "metadata": {},
   "outputs": [],
   "source": [
    "# View duplicated categories \n",
    "duplicates = cdf[cdf[\"category\"].duplicated(keep=False)]"
   ]
  },
  {
   "cell_type": "code",
   "execution_count": null,
   "metadata": {},
   "outputs": [],
   "source": [
    "# Sort duplicates to understand patterns\n",
    "duplicates.sort_values(by=['is_page_list','category', 'url'], ascending=False)"
   ]
  },
  {
   "cell_type": "code",
   "execution_count": null,
   "metadata": {},
   "outputs": [],
   "source": [
    "# Sort data by the specified columns\n",
    "cdf.sort_values(by=['is_page_list','category', 'url'], ascending=False)"
   ]
  },
  {
   "cell_type": "code",
   "execution_count": null,
   "metadata": {},
   "outputs": [],
   "source": [
    "# Drop duplicates (keep only first occurrence)\n",
    "cdf.drop_duplicates(subset=[\"category\"], inplace=True, keep='first')\n",
    "\n",
    "# View data\n",
    "cdf.describe()"
   ]
  },
  {
   "cell_type": "code",
   "execution_count": null,
   "metadata": {},
   "outputs": [],
   "source": [
    "# View duplicated urls\n",
    "duplicated_urls = cdf[cdf[\"url\"].duplicated(keep=False)]\n",
    "\n",
    "# Sort by url\n",
    "duplicates_sorted = duplicated_urls.sort_values(by=\"is_page_list\", ascending=False)\n",
    "\n",
    "# View data\n",
    "duplicates_sorted"
   ]
  },
  {
   "cell_type": "code",
   "execution_count": null,
   "metadata": {},
   "outputs": [],
   "source": [
    "# Sort data by \"is_page_list\"\n",
    "cdf.sort_values(by='is_page_list', ascending=False)"
   ]
  },
  {
   "cell_type": "code",
   "execution_count": null,
   "metadata": {},
   "outputs": [],
   "source": [
    "# Drop duplicate urls (Observation: Double is_page_list created for SEO and Diacritics)\n",
    "\n",
    "cdf.drop_duplicates(subset=[\"url\"], inplace=True, keep='first')\n",
    "\n",
    "# Summarize data\n",
    "cdf.describe()"
   ]
  },
  {
   "cell_type": "markdown",
   "metadata": {},
   "source": [
    "- Manipulation de chaînes :"
   ]
  },
  {
   "cell_type": "code",
   "execution_count": 8,
   "metadata": {},
   "outputs": [],
   "source": [
    "# Remove trailing spaces and characters in category name\n",
    "cdf[\"category\"] = cdf[\"category\"].str.strip()"
   ]
  },
  {
   "cell_type": "code",
   "execution_count": 9,
   "metadata": {},
   "outputs": [],
   "source": [
    "# Convert category names to lowercase\n",
    "cdf['category'] = cdf['category'].str.lower()"
   ]
  },
  {
   "cell_type": "code",
   "execution_count": 10,
   "metadata": {},
   "outputs": [],
   "source": [
    "# Handling encoding issues (trailing underscores, Prefix 0s, multiple underscores) in specified columns\n",
    "# Replace spaces, commas, apostrophes with underscore\n",
    "\n",
    "logging.basicConfig(level=logging.ERROR)\n",
    "\n",
    "# Define function to clean category texts\n",
    "def clean_text(input_str):\n",
    "    \"\"\"\n",
    "    Standardize and clean text input by transforming special characters and whitespace.\n",
    "\n",
    "    Args:\n",
    "        input_str (str or None): Input string to be cleaned.\n",
    "\n",
    "    Returns:\n",
    "        str or None: Cleaned string with standardized formatting.\n",
    "\n",
    "    Raises:\n",
    "        TypeError: If input is not a string, None, or NaN.\n",
    "    \"\"\"\n",
    "    try:\n",
    "        if pd.isnull(input_str):  # Handle NaN values\n",
    "            return input_str\n",
    "        \n",
    "        if not isinstance(input_str, (str, int, float)):\n",
    "            raise TypeError(f\"Expected string, got {type(input_str)}\")\n",
    "        \n",
    "        input_str = str(input_str)  # Ensure the input is a string\n",
    "        \n",
    "        input_str = re.sub(r'[\\u002D\\u2010\\u2011\\u2012\\u2013\\u2014\\u2212]', '_', input_str) # Replace all hyphen types\n",
    "        input_str = re.sub(r'\\s+', '_', input_str.strip()) # Replace all whitespace with underscores\n",
    "        input_str = input_str.replace(',', '_') # Replace commas with underscores \n",
    "        input_str = input_str.replace(\"'\", '_') # Replace apostrophes with underscores\n",
    "        input_str = re.sub(r'_+', '_', input_str) # Remove multiple underscores\n",
    "        input_str = re.sub(r'^_|_$', '', input_str) # Remove leading or trailing underscores\n",
    "        input_str = re.sub(r'^0+', '', input_str) # Remove leading zeros\n",
    "        \n",
    "        return input_str\n",
    "    \n",
    "    except Exception as e:\n",
    "        logging.error(f\"Error in category clean_text: {e}\")\n",
    "        raise\n",
    "\n",
    "# Apply function to clean category text\n",
    "cdf['category'] = cdf['category'].map(clean_text)"
   ]
  },
  {
   "cell_type": "code",
   "execution_count": 11,
   "metadata": {},
   "outputs": [],
   "source": [
    "# Declare text replacement characters\n",
    "replacements = {\"à\": \"a\", \"á\": \"a\", \"â\": \"a\", \"ä\": \"a\", \"ç\" : \"c\",\n",
    "                \"é\": \"e\", \"è\": \"e\", \"ê\": \"e\", \"ë\": \"e\", \"É\":\"E\", \"È\":\"E\",\n",
    "                \"î\": \"i\", \"ï\":\"i\", \"ì\": \"i\", \"í\": \"i\",\n",
    "                \"ö\": \"o\", \"ô\": \"o\", \"ò\": \"o\", \"ó\": \"o\",\n",
    "                \"ü\": \"u\", \"û\": \"u\", \"ù\": \"u\", \"ú\": \"u\"}\n",
    "\n",
    "# Define function to replace accented category texts\n",
    "def replace_accents(input_str, replacement):\n",
    "    \"\"\"\n",
    "    Replace specific accented characters in a string using a provided replacement dictionary.\n",
    "\n",
    "    Args:\n",
    "        input_str (str): Input string to be processed.\n",
    "        replacement (dict): Dictionary mapping accented characters to their replacements.\n",
    "\n",
    "    Returns:\n",
    "        str: String with specified characters replaced.\n",
    "\n",
    "    Raises:\n",
    "        TypeError: If input_str is not a string or replacement is not a dictionary.\n",
    "        ValueError: If replacement dictionary is empty.\n",
    "\n",
    "    Examples:\n",
    "        >>> replacements = {'é': 'e', 'à': 'a'}\n",
    "        >>> replace_accents(\"Café\", replacements)\n",
    "        'Cafe'\n",
    "    \"\"\"\n",
    "    try:\n",
    "        # Validate input types\n",
    "        if not isinstance(input_str, str):\n",
    "            raise TypeError(f\"Expected string for input_str, got {type(input_str)}\")\n",
    "        \n",
    "        if not isinstance(replacement, dict):\n",
    "            raise TypeError(f\"Expected dictionary for replacement, got {type(replacement)}\")\n",
    "        \n",
    "        if not replacement:\n",
    "            raise ValueError(\"Replacement dictionary cannot be empty\")\n",
    "\n",
    "        # Perform replacements\n",
    "        for old, new in replacement.items():\n",
    "            input_str = input_str.replace(old, new)\n",
    "        \n",
    "        return input_str\n",
    "\n",
    "    except Exception as e:\n",
    "        logging.error(f\"Error in category replace_accents: {e}\")\n",
    "        raise\n",
    "\n",
    "# Apply function to remove accents\n",
    "cdf[\"category\"] = cdf[\"category\"].apply(lambda x: replace_accents(str(x), replacements))"
   ]
  },
  {
   "cell_type": "code",
   "execution_count": null,
   "metadata": {},
   "outputs": [],
   "source": [
    "# Review for errors or duplicates\n",
    "cdf.sort_values(by='category')"
   ]
  },
  {
   "cell_type": "code",
   "execution_count": null,
   "metadata": {},
   "outputs": [],
   "source": [
    "# Verify again if duplicates persists\n",
    "c_duplicates = cdf[cdf['category'].duplicated(keep=False)]\n",
    "\n",
    "# Sort by category\n",
    "c_duplicates.sort_values(by='category')"
   ]
  },
  {
   "cell_type": "code",
   "execution_count": 14,
   "metadata": {},
   "outputs": [],
   "source": [
    "# Sort by is_page_list\n",
    "cdf_sorted = cdf.sort_values(by=\"is_page_list\", ascending=False)"
   ]
  },
  {
   "cell_type": "code",
   "execution_count": 15,
   "metadata": {},
   "outputs": [],
   "source": [
    "# Drop newly found duplicates (SEO / Diacritics related, keep only \"True\" is_page_lists)\n",
    "cdf_no_duplicates = cdf_sorted.drop_duplicates(subset=['category'], keep='first')"
   ]
  },
  {
   "cell_type": "code",
   "execution_count": 16,
   "metadata": {},
   "outputs": [],
   "source": [
    "# Sort by original index\n",
    "cdf_no_duplicates = cdf_no_duplicates.sort_index()"
   ]
  },
  {
   "cell_type": "code",
   "execution_count": 17,
   "metadata": {},
   "outputs": [],
   "source": [
    "# Duplicate original index\n",
    "cdf_no_duplicates[\"original_index\"] = cdf_no_duplicates.index"
   ]
  },
  {
   "cell_type": "code",
   "execution_count": 18,
   "metadata": {},
   "outputs": [],
   "source": [
    "# Reset index\n",
    "categories_cleaned = cdf_no_duplicates.reset_index(drop=True)"
   ]
  },
  {
   "cell_type": "code",
   "execution_count": 19,
   "metadata": {},
   "outputs": [],
   "source": [
    "# Exclude original index from final copy\n",
    "categories_cleaned_final = categories_cleaned[['category', 'is_page_list', 'url']]"
   ]
  },
  {
   "cell_type": "code",
   "execution_count": 39,
   "metadata": {},
   "outputs": [],
   "source": [
    "# Export cleaned data\n",
    "categories_cleaned_final.to_csv(\"categories_cleaned_final.csv\", index=False)"
   ]
  },
  {
   "cell_type": "markdown",
   "metadata": {},
   "source": [
    "### Product_data.csv"
   ]
  },
  {
   "cell_type": "code",
   "execution_count": 106,
   "metadata": {},
   "outputs": [],
   "source": [
    "# Duplicate raw product data\n",
    "pdf = product_data.copy()"
   ]
  },
  {
   "cell_type": "code",
   "execution_count": null,
   "metadata": {},
   "outputs": [],
   "source": [
    "# Get info about products data\n",
    "pdf.info()"
   ]
  },
  {
   "cell_type": "code",
   "execution_count": null,
   "metadata": {},
   "outputs": [],
   "source": [
    "# Get summary statistics/info\n",
    "pdf.describe()"
   ]
  },
  {
   "cell_type": "code",
   "execution_count": null,
   "metadata": {},
   "outputs": [],
   "source": [
    "# Check for missing values (general)\n",
    "pdf.isna()"
   ]
  },
  {
   "cell_type": "code",
   "execution_count": null,
   "metadata": {},
   "outputs": [],
   "source": [
    "# Check for missing values in unique_id column\n",
    "pdf[\"unique_id\"].isna().value_counts()"
   ]
  },
  {
   "cell_type": "code",
   "execution_count": null,
   "metadata": {},
   "outputs": [],
   "source": [
    "# Check for missing values (category column)\n",
    "pdf[\"category\"].isna().value_counts()"
   ]
  },
  {
   "cell_type": "code",
   "execution_count": null,
   "metadata": {},
   "outputs": [],
   "source": [
    "# Check for missing values (subcategory column)\n",
    "pdf[\"subcategory\"].isna().value_counts()"
   ]
  },
  {
   "cell_type": "code",
   "execution_count": null,
   "metadata": {},
   "outputs": [],
   "source": [
    "# Check for missing values (subsubcategory column)\n",
    "pdf[\"subsubcategory\"].isna().value_counts()"
   ]
  },
  {
   "cell_type": "code",
   "execution_count": null,
   "metadata": {},
   "outputs": [],
   "source": [
    "# Check for missing values (subsubsubcategory column)\n",
    "pdf[\"subsubsubcategory\"].isna().value_counts()"
   ]
  },
  {
   "cell_type": "code",
   "execution_count": null,
   "metadata": {},
   "outputs": [],
   "source": [
    "# Check for missing values (price column)\n",
    "pdf[\"price\"].isna().value_counts()"
   ]
  },
  {
   "cell_type": "code",
   "execution_count": null,
   "metadata": {},
   "outputs": [],
   "source": [
    "# Check for missing values (title column) \n",
    "pdf[\"title\"].isna().value_counts()"
   ]
  },
  {
   "cell_type": "code",
   "execution_count": null,
   "metadata": {},
   "outputs": [],
   "source": [
    "# Check for missing values (url column)\n",
    "pdf[\"url\"].isna().value_counts()"
   ]
  },
  {
   "cell_type": "code",
   "execution_count": null,
   "metadata": {},
   "outputs": [],
   "source": [
    "# Show summary statistics\n",
    "pdf.describe()"
   ]
  },
  {
   "cell_type": "code",
   "execution_count": null,
   "metadata": {},
   "outputs": [],
   "source": [
    "# View duplicates (if any)\n",
    "duplicates_in_pdf = pdf[pdf.duplicated(subset=\"title\", keep=False)]\n",
    "\n",
    "duplicates_in_pdf\n",
    "\n",
    "# Note: Duplicates were not removed because each entry represents a distinct variation of a product (e.g., different color or size) with a unique ID. \n",
    "# While some fields like title, category, or subcategory may be identical, these variations provide important granularity for analysis."
   ]
  },
  {
   "cell_type": "markdown",
   "metadata": {},
   "source": [
    "- Manipulation de chaînes :"
   ]
  },
  {
   "cell_type": "code",
   "execution_count": null,
   "metadata": {},
   "outputs": [],
   "source": [
    "# Replace NaNs\n",
    "pdf['subsubsubcategory'] = pdf['subsubsubcategory'].fillna(\"Not_available\")"
   ]
  },
  {
   "cell_type": "code",
   "execution_count": 51,
   "metadata": {},
   "outputs": [],
   "source": [
    "# Convert specified columns to lowercase \n",
    "columns_to_lowercase = ['category', 'subcategory', 'subsubcategory', 'subsubsubcategory', 'title']\n",
    "pdf[columns_to_lowercase] = pdf[columns_to_lowercase].apply(lambda x: x.str.lower())"
   ]
  },
  {
   "cell_type": "code",
   "execution_count": 52,
   "metadata": {},
   "outputs": [],
   "source": [
    "# Strip values in the specified columns \n",
    "columns_to_strip = ['category', 'subcategory', 'subsubcategory', 'subsubsubcategory', 'title']\n",
    "pdf[columns_to_strip] = pdf[columns_to_strip].apply(lambda x: x.str.strip())"
   ]
  },
  {
   "cell_type": "code",
   "execution_count": 53,
   "metadata": {},
   "outputs": [],
   "source": [
    "# Handling encoding issues (trailing underscores, Prefix 0s, multiple underscores) in specified columns\n",
    "# Replace spaces, commas, apostrophes with underscore\n",
    "\n",
    "\n",
    "columns_to_replace = ['category', 'subcategory', 'subsubcategory', 'subsubsubcategory', 'title']\n",
    "\n",
    "def clean_text(input_str):\n",
    "    \"\"\"\n",
    "    Standardize and clean text input by transforming special characters and whitespace.\n",
    "\n",
    "    Args:\n",
    "        input_str (str or None): Input string to be cleaned.\n",
    "\n",
    "    Returns:\n",
    "        str or None: Cleaned string with standardized formatting.\n",
    "\n",
    "    Raises:\n",
    "        TypeError: If input is not a string, None, or NaN.\n",
    "    \"\"\"\n",
    "    try:\n",
    "        if pd.isnull(input_str):  # Handle NaN values\n",
    "            return input_str\n",
    "        \n",
    "        if not isinstance(input_str, (str, int, float)):\n",
    "            raise TypeError(f\"Expected string, got {type(input_str)}\")\n",
    "        \n",
    "        input_str = str(input_str)  # Ensure the input is a string\n",
    "        \n",
    "        input_str = re.sub(r'[\\u002D\\u2010\\u2011\\u2012\\u2013\\u2014\\u2212]', '_', input_str) # Replace all hyphen types\n",
    "        input_str = re.sub(r'\\s+', '_', input_str.strip()) # Replace all whitespace with underscores\n",
    "        input_str = input_str.replace(',', '_') # Replace commas with underscores \n",
    "        input_str = input_str.replace(\"'\", '_') # Replace apostrophes with underscores\n",
    "        input_str = re.sub(r'_+', '_', input_str) # Remove multiple underscores\n",
    "        input_str = re.sub(r'^_|_$', '', input_str) # Remove leading or trailing underscores\n",
    "        input_str = re.sub(r'^0+', '', input_str) # Remove leading zeros\n",
    "        \n",
    "        return input_str\n",
    "    \n",
    "    except Exception as e:\n",
    "        logging.error(f\"Error in product clean_text: {e}\")\n",
    "        raise\n",
    "\n",
    "# Apply function to specified columns\n",
    "pdf[columns_to_replace] = pdf[columns_to_replace].map(clean_text)"
   ]
  },
  {
   "cell_type": "code",
   "execution_count": 54,
   "metadata": {},
   "outputs": [],
   "source": [
    "# Replace accented letters in the specified columns' texts\n",
    "\n",
    "def robust_remove_accents(input_str):\n",
    "    \"\"\"\n",
    "    Remove accented characters from input string, converting to their base ASCII equivalents.\n",
    "\n",
    "    Args:\n",
    "        input_str (str): Input string containing accented characters.\n",
    "\n",
    "    Returns:\n",
    "        str: String with accented characters replaced by their non-accented equivalents.\n",
    "\n",
    "    Raises:\n",
    "        TypeError: If input is not a string.\n",
    "        ValueError: If input processing fails.\n",
    "\n",
    "    Examples:\n",
    "        >>> robust_remove_accents(\"héllô\")\n",
    "        'hello'\n",
    "        >>> robust_remove_accents(\"Café\")\n",
    "        'Cafe'\n",
    "    \"\"\"\n",
    "    try:\n",
    "        # Validate input type\n",
    "        if not isinstance(input_str, str):\n",
    "            raise TypeError(f\"Expected string, got {type(input_str)}\")\n",
    "\n",
    "        # Normalize to decomposed form\n",
    "        normalized = unicodedata.normalize('NFD', input_str)\n",
    "\n",
    "        # Remove combining characters (accents)\n",
    "        without_accents = ''.join(c for c in normalized if unicodedata.category(c) != 'Mn')\n",
    "\n",
    "        # Explicitly replace problematic characters (if any remains)\n",
    "        replacements = {\"à\": \"a\", \"á\": \"a\", \"â\": \"a\", \"ä\": \"a\", \"ç\": \"c\", \"ć\": \"c\",\n",
    "                    \"é\": \"e\", \"è\": \"e\", \"ê\": \"e\", \"ë\": \"e\", \"É\":\"E\", \"È\":\"E\",\n",
    "                    \"î\": \"i\", \"ï\":\"i\", \"ì\": \"i\", \"í\": \"i\",\n",
    "                    \"ö\": \"o\", \"ô\": \"o\", \"ò\": \"o\", \"ó\": \"o\",\n",
    "                    \"ü\": \"u\", \"û\": \"u\", \"ù\": \"u\", \"ú\": \"u\"}\n",
    "\n",
    "        for accented_char, replacement in replacements.items():\n",
    "            without_accents = without_accents.replace(accented_char, replacement)\n",
    "        \n",
    "        # Handle lingering issues and strip\n",
    "        return without_accents.replace('\\xa0', ' ').strip()\n",
    "\n",
    "    except Exception as e:\n",
    "        logging.error(f\"Error in product robust_remove_accents: {e}\")\n",
    "        raise\n",
    "\n",
    "# Apply function\n",
    "pdf[columns_to_replace] = pdf[columns_to_replace].map(\n",
    "    lambda x: robust_remove_accents(str(x)) if isinstance(x, str) else x)"
   ]
  },
  {
   "cell_type": "code",
   "execution_count": null,
   "metadata": {},
   "outputs": [],
   "source": [
    "# Replace commans with full stops and remove spaces bewteen numbers\n",
    "pdf['price'] = pdf['price'].apply(lambda x: x.replace(\",\", \".\"))\n",
    "pdf['price'] = pdf['price'].apply(lambda x: x.replace(\" \", \"\"))\n",
    "\n",
    "# Convert price column to float type\n",
    "pdf['price'] = pd.to_numeric(pdf['price'], errors='coerce')"
   ]
  },
  {
   "cell_type": "code",
   "execution_count": null,
   "metadata": {},
   "outputs": [],
   "source": [
    "# Display count of prices with NaN\n",
    "pdf['price'].isna().value_counts()"
   ]
  },
  {
   "cell_type": "code",
   "execution_count": null,
   "metadata": {},
   "outputs": [],
   "source": [
    "# Show rows with NaNs to understand the problem\n",
    "pdf_nas = pdf[pdf.isna().any(axis=1)]\n",
    "\n",
    "pdf_nas"
   ]
  },
  {
   "cell_type": "code",
   "execution_count": 62,
   "metadata": {},
   "outputs": [],
   "source": [
    "# Replace NaNs with None\n",
    "pdf['price'] = pdf['price'].replace({pd.NA: None, np.nan: None})\n",
    "\n",
    "# Drop rows with NaN\n",
    "pdf = pdf.dropna(subset=['price'])"
   ]
  },
  {
   "cell_type": "code",
   "execution_count": 67,
   "metadata": {},
   "outputs": [],
   "source": [
    "# Store copy of original index\n",
    "pdf['original_index'] = pdf.index"
   ]
  },
  {
   "cell_type": "code",
   "execution_count": 70,
   "metadata": {},
   "outputs": [],
   "source": [
    "# Reset index\n",
    "products_cleaned = pdf.reset_index(drop=True)"
   ]
  },
  {
   "cell_type": "code",
   "execution_count": 83,
   "metadata": {},
   "outputs": [],
   "source": [
    "# Ensure price is in float format\n",
    "products_cleaned['price'] = pd.to_numeric(products_cleaned['price'], errors='coerce')\n",
    "\n",
    "# Select specific columns to be saved to the final file\n",
    "products_cleaned_final = products_cleaned[['unique_id','category','subcategory', 'subsubcategory', 'subsubsubcategory', 'title', 'price', 'url']]"
   ]
  },
  {
   "cell_type": "code",
   "execution_count": 85,
   "metadata": {},
   "outputs": [],
   "source": [
    "# Save cleaned file to csv\n",
    "products_cleaned_final.to_csv(\"products_cleaned_final.csv\", index=False)"
   ]
  },
  {
   "cell_type": "markdown",
   "metadata": {},
   "source": [
    "## Analyse et visualisation des données"
   ]
  },
  {
   "cell_type": "markdown",
   "metadata": {},
   "source": [
    "### Categories.csv"
   ]
  },
  {
   "cell_type": "code",
   "execution_count": 8,
   "metadata": {},
   "outputs": [],
   "source": [
    "# Load data\n",
    "cat = pd.read_csv(\"categories_cleaned_final.csv\")"
   ]
  },
  {
   "cell_type": "code",
   "execution_count": 9,
   "metadata": {},
   "outputs": [],
   "source": [
    "# Create a copy of the raw data\n",
    "cat_df = cat.copy()"
   ]
  },
  {
   "cell_type": "code",
   "execution_count": 11,
   "metadata": {},
   "outputs": [],
   "source": [
    "# Count number of page_lists\n",
    "pagelist_num = cat_df['is_page_list'].value_counts()\n",
    "\n",
    "# Store result in dataframe\n",
    "pagelist_num = pd.DataFrame(pagelist_num)\n",
    "\n",
    "# Reset dataframe index\n",
    "pagelist_num = pagelist_num.reset_index()"
   ]
  },
  {
   "cell_type": "code",
   "execution_count": 12,
   "metadata": {},
   "outputs": [
    {
     "data": {
      "text/html": [
       "<div>\n",
       "<style scoped>\n",
       "    .dataframe tbody tr th:only-of-type {\n",
       "        vertical-align: middle;\n",
       "    }\n",
       "\n",
       "    .dataframe tbody tr th {\n",
       "        vertical-align: top;\n",
       "    }\n",
       "\n",
       "    .dataframe thead th {\n",
       "        text-align: right;\n",
       "    }\n",
       "</style>\n",
       "<table border=\"1\" class=\"dataframe\">\n",
       "  <thead>\n",
       "    <tr style=\"text-align: right;\">\n",
       "      <th></th>\n",
       "      <th>is_page_list</th>\n",
       "      <th>count</th>\n",
       "    </tr>\n",
       "  </thead>\n",
       "  <tbody>\n",
       "    <tr>\n",
       "      <th>0</th>\n",
       "      <td>False</td>\n",
       "      <td>1357</td>\n",
       "    </tr>\n",
       "    <tr>\n",
       "      <th>1</th>\n",
       "      <td>True</td>\n",
       "      <td>15</td>\n",
       "    </tr>\n",
       "  </tbody>\n",
       "</table>\n",
       "</div>"
      ],
      "text/plain": [
       "   is_page_list  count\n",
       "0         False   1357\n",
       "1          True     15"
      ]
     },
     "execution_count": 12,
     "metadata": {},
     "output_type": "execute_result"
    }
   ],
   "source": [
    "# Show dataframe\n",
    "pagelist_num"
   ]
  },
  {
   "cell_type": "markdown",
   "metadata": {},
   "source": [
    "### Products.csv"
   ]
  },
  {
   "cell_type": "code",
   "execution_count": 17,
   "metadata": {},
   "outputs": [],
   "source": [
    "# Load data\n",
    "prod = pd.read_csv(\"products_cleaned_final.csv\")"
   ]
  },
  {
   "cell_type": "code",
   "execution_count": 18,
   "metadata": {},
   "outputs": [],
   "source": [
    "# Create a copy of the raw data\n",
    "prod_df = prod.copy()\n"
   ]
  },
  {
   "cell_type": "code",
   "execution_count": null,
   "metadata": {},
   "outputs": [],
   "source": [
    "# view data\n",
    "prod_df"
   ]
  },
  {
   "cell_type": "code",
   "execution_count": 19,
   "metadata": {},
   "outputs": [
    {
     "data": {
      "text/html": [
       "<div>\n",
       "<style scoped>\n",
       "    .dataframe tbody tr th:only-of-type {\n",
       "        vertical-align: middle;\n",
       "    }\n",
       "\n",
       "    .dataframe tbody tr th {\n",
       "        vertical-align: top;\n",
       "    }\n",
       "\n",
       "    .dataframe thead th {\n",
       "        text-align: right;\n",
       "    }\n",
       "</style>\n",
       "<table border=\"1\" class=\"dataframe\">\n",
       "  <thead>\n",
       "    <tr style=\"text-align: right;\">\n",
       "      <th></th>\n",
       "      <th>category</th>\n",
       "      <th>num_of_products</th>\n",
       "    </tr>\n",
       "  </thead>\n",
       "  <tbody>\n",
       "    <tr>\n",
       "      <th>0</th>\n",
       "      <td>carrelage_sol</td>\n",
       "      <td>49</td>\n",
       "    </tr>\n",
       "    <tr>\n",
       "      <th>1</th>\n",
       "      <td>chauffage_climatisation_et_ventilation</td>\n",
       "      <td>3692</td>\n",
       "    </tr>\n",
       "    <tr>\n",
       "      <th>2</th>\n",
       "      <td>cuisine</td>\n",
       "      <td>30</td>\n",
       "    </tr>\n",
       "    <tr>\n",
       "      <th>3</th>\n",
       "      <td>decoration_interieure</td>\n",
       "      <td>8276</td>\n",
       "    </tr>\n",
       "    <tr>\n",
       "      <th>4</th>\n",
       "      <td>droguerie_entretien_de_la_maison</td>\n",
       "      <td>523</td>\n",
       "    </tr>\n",
       "    <tr>\n",
       "      <th>5</th>\n",
       "      <td>electricite</td>\n",
       "      <td>221</td>\n",
       "    </tr>\n",
       "    <tr>\n",
       "      <th>6</th>\n",
       "      <td>jardin_et_terrasse</td>\n",
       "      <td>394</td>\n",
       "    </tr>\n",
       "    <tr>\n",
       "      <th>7</th>\n",
       "      <td>luminaire_et_eclairage</td>\n",
       "      <td>540</td>\n",
       "    </tr>\n",
       "    <tr>\n",
       "      <th>8</th>\n",
       "      <td>maison_connectee_domotique_et_objet_connecte</td>\n",
       "      <td>96</td>\n",
       "    </tr>\n",
       "    <tr>\n",
       "      <th>9</th>\n",
       "      <td>materiaux_et_gros_oeuvre</td>\n",
       "      <td>62</td>\n",
       "    </tr>\n",
       "    <tr>\n",
       "      <th>10</th>\n",
       "      <td>outillage</td>\n",
       "      <td>455</td>\n",
       "    </tr>\n",
       "    <tr>\n",
       "      <th>11</th>\n",
       "      <td>peinture</td>\n",
       "      <td>179</td>\n",
       "    </tr>\n",
       "    <tr>\n",
       "      <th>12</th>\n",
       "      <td>plomberie</td>\n",
       "      <td>302</td>\n",
       "    </tr>\n",
       "    <tr>\n",
       "      <th>13</th>\n",
       "      <td>quincaillerie</td>\n",
       "      <td>666</td>\n",
       "    </tr>\n",
       "    <tr>\n",
       "      <th>14</th>\n",
       "      <td>rangement_dressing</td>\n",
       "      <td>4373</td>\n",
       "    </tr>\n",
       "    <tr>\n",
       "      <th>15</th>\n",
       "      <td>salle_de_bains_et_wc</td>\n",
       "      <td>8450</td>\n",
       "    </tr>\n",
       "  </tbody>\n",
       "</table>\n",
       "</div>"
      ],
      "text/plain": [
       "                                        category  num_of_products\n",
       "0                                  carrelage_sol               49\n",
       "1         chauffage_climatisation_et_ventilation             3692\n",
       "2                                        cuisine               30\n",
       "3                          decoration_interieure             8276\n",
       "4               droguerie_entretien_de_la_maison              523\n",
       "5                                    electricite              221\n",
       "6                             jardin_et_terrasse              394\n",
       "7                         luminaire_et_eclairage              540\n",
       "8   maison_connectee_domotique_et_objet_connecte               96\n",
       "9                       materiaux_et_gros_oeuvre               62\n",
       "10                                     outillage              455\n",
       "11                                      peinture              179\n",
       "12                                     plomberie              302\n",
       "13                                 quincaillerie              666\n",
       "14                            rangement_dressing             4373\n",
       "15                          salle_de_bains_et_wc             8450"
      ]
     },
     "execution_count": 19,
     "metadata": {},
     "output_type": "execute_result"
    }
   ],
   "source": [
    "# Calculate the number of products by category\n",
    "len_products = prod_df.groupby('category').size()\n",
    "\n",
    "# Make table a dataframe\n",
    "products_len_df = pd.DataFrame(len_products, columns=[\"num_of_products\"]).reset_index()\n",
    "\n",
    "# Show dataframe\n",
    "products_len_df"
   ]
  },
  {
   "cell_type": "code",
   "execution_count": 112,
   "metadata": {},
   "outputs": [
    {
     "data": {
      "text/html": [
       "<div>\n",
       "<style scoped>\n",
       "    .dataframe tbody tr th:only-of-type {\n",
       "        vertical-align: middle;\n",
       "    }\n",
       "\n",
       "    .dataframe tbody tr th {\n",
       "        vertical-align: top;\n",
       "    }\n",
       "\n",
       "    .dataframe thead th {\n",
       "        text-align: right;\n",
       "    }\n",
       "</style>\n",
       "<table border=\"1\" class=\"dataframe\">\n",
       "  <thead>\n",
       "    <tr style=\"text-align: right;\">\n",
       "      <th></th>\n",
       "      <th>price</th>\n",
       "    </tr>\n",
       "  </thead>\n",
       "  <tbody>\n",
       "    <tr>\n",
       "      <th>count</th>\n",
       "      <td>28308.000000</td>\n",
       "    </tr>\n",
       "    <tr>\n",
       "      <th>mean</th>\n",
       "      <td>145.151554</td>\n",
       "    </tr>\n",
       "    <tr>\n",
       "      <th>std</th>\n",
       "      <td>270.757478</td>\n",
       "    </tr>\n",
       "    <tr>\n",
       "      <th>min</th>\n",
       "      <td>0.500000</td>\n",
       "    </tr>\n",
       "    <tr>\n",
       "      <th>25%</th>\n",
       "      <td>20.760000</td>\n",
       "    </tr>\n",
       "    <tr>\n",
       "      <th>50%</th>\n",
       "      <td>48.995000</td>\n",
       "    </tr>\n",
       "    <tr>\n",
       "      <th>75%</th>\n",
       "      <td>136.990000</td>\n",
       "    </tr>\n",
       "    <tr>\n",
       "      <th>max</th>\n",
       "      <td>5890.000000</td>\n",
       "    </tr>\n",
       "  </tbody>\n",
       "</table>\n",
       "</div>"
      ],
      "text/plain": [
       "              price\n",
       "count  28308.000000\n",
       "mean     145.151554\n",
       "std      270.757478\n",
       "min        0.500000\n",
       "25%       20.760000\n",
       "50%       48.995000\n",
       "75%      136.990000\n",
       "max     5890.000000"
      ]
     },
     "execution_count": 112,
     "metadata": {},
     "output_type": "execute_result"
    }
   ],
   "source": [
    "# Show summary statistics\n",
    "prod_df.describe()"
   ]
  },
  {
   "cell_type": "code",
   "execution_count": 113,
   "metadata": {},
   "outputs": [
    {
     "data": {
      "image/png": "[encoded data removed]",
      "text/plain": [
       "<Figure size 800x600 with 1 Axes>"
      ]
     },
     "metadata": {},
     "output_type": "display_data"
    }
   ],
   "source": [
    "# override the default matplotlib style, to avoid the grey background and grid\n",
    "sns.set_style(\"white\") \n",
    "\n",
    "# Group by category and calculate statistics\n",
    "stats = prod_df.groupby('category')['price'].agg(['mean', 'std', 'min', 'max']).reset_index()\n",
    "\n",
    "# Plot mean with horizontal error bars for std deviation\n",
    "plt.figure(figsize=(8, 6))\n",
    "plt.errorbar(\n",
    "    stats['mean'], stats['category'], \n",
    "    xerr=stats['std'], fmt='o', capsize=4, label='Mean ± Std Dev', color='blue', elinewidth=0.8\n",
    ")\n",
    "\n",
    "# Adjust plot border width\n",
    "for spine in plt.gca().spines.values():  # Access all spines\n",
    "    spine.set_linewidth(0.5)  # Set the border (spine) line width\n",
    "\n",
    "# Add labels, title, and adjust axes params\n",
    "plt.title('Mean & Standard Deviation by Category', fontsize = 13, weight = \"bold\")\n",
    "plt.ylabel('Category', fontsize = 10)\n",
    "plt.xlabel('Price (€)', fontsize = 10)\n",
    "plt.yticks(fontsize = 10)\n",
    "plt.xticks(fontsize = 10)\n",
    "plt.legend()\n",
    "sns.despine()\n",
    "plt.show()"
   ]
  },
  {
   "cell_type": "code",
   "execution_count": 114,
   "metadata": {},
   "outputs": [
    {
     "data": {
      "image/png": "[encoded data removed]",
      "text/plain": [
       "<Figure size 1000x600 with 1 Axes>"
      ]
     },
     "metadata": {},
     "output_type": "display_data"
    }
   ],
   "source": [
    "# override the default matplotlib style, to avoid the grey background and grid\n",
    "sns.set_style(\"white\") \n",
    "\n",
    "# Prepare the y positions, x_bot, and x_dif\n",
    "y = np.arange(len(stats))  # positions for the categories\n",
    "x_bot = stats['min']       # minimum price as the start of the bar\n",
    "x_dif = stats['max'] - stats['min']  # range of the prices as the bar width\n",
    "\n",
    "# Create the horizontal bar plot\n",
    "plt.figure(figsize=(10, 6))\n",
    "plt.barh(y, x_dif, left=x_bot, color='skyblue', edgecolor='blue', height=0.01)\n",
    "\n",
    "# Adjust plot border width\n",
    "for spine in plt.gca().spines.values():  # Access all spines\n",
    "    spine.set_linewidth(0.5)  # Set the border (spine) line width\n",
    "\n",
    "# Add labels, title, and adjust awes params\n",
    "plt.title('Price Range by Category', fontsize = 13, weight = \"bold\")\n",
    "plt.ylabel('Category', fontsize = 10)  # Label for the y-axis\n",
    "plt.xlabel('Price Range (€)', fontsize = 10)  # Label for the x-axis\n",
    "plt.yticks(y, stats['category'], fontsize = 10)\n",
    "plt.xticks(fontsize = 10)\n",
    "\n",
    "# Show the plot\n",
    "plt.tight_layout()\n",
    "sns.despine()\n",
    "plt.show()"
   ]
  },
  {
   "cell_type": "code",
   "execution_count": 115,
   "metadata": {},
   "outputs": [
    {
     "data": {
      "text/html": [
       "<div>\n",
       "<style scoped>\n",
       "    .dataframe tbody tr th:only-of-type {\n",
       "        vertical-align: middle;\n",
       "    }\n",
       "\n",
       "    .dataframe tbody tr th {\n",
       "        vertical-align: top;\n",
       "    }\n",
       "\n",
       "    .dataframe thead th {\n",
       "        text-align: right;\n",
       "    }\n",
       "</style>\n",
       "<table border=\"1\" class=\"dataframe\">\n",
       "  <thead>\n",
       "    <tr style=\"text-align: right;\">\n",
       "      <th></th>\n",
       "      <th>category</th>\n",
       "      <th>title_min</th>\n",
       "      <th>price_min</th>\n",
       "      <th>title_max</th>\n",
       "      <th>price_max</th>\n",
       "    </tr>\n",
       "  </thead>\n",
       "  <tbody>\n",
       "    <tr>\n",
       "      <th>0</th>\n",
       "      <td>carrelage_sol</td>\n",
       "      <td>decapant_laitance_et_voile_de_ciment_spado_pro...</td>\n",
       "      <td>6.99</td>\n",
       "      <td>protecteur_anti_taches_effet_naturel_fila_5l</td>\n",
       "      <td>189.00</td>\n",
       "    </tr>\n",
       "    <tr>\n",
       "      <th>1</th>\n",
       "      <td>chauffage_climatisation_et_ventilation</td>\n",
       "      <td>pompe_manuelle_de_remplissage_pour_tous_fluide...</td>\n",
       "      <td>2.60</td>\n",
       "      <td>poele_a_pellet_freepoint_zen_airtight_noir_9.3_kw</td>\n",
       "      <td>3190.00</td>\n",
       "    </tr>\n",
       "    <tr>\n",
       "      <th>2</th>\n",
       "      <td>cuisine</td>\n",
       "      <td>plan_de_travail_stratifie_aspect_chene_grise_g...</td>\n",
       "      <td>84.15</td>\n",
       "      <td>lave_linge_hublot_60_cm_9kg_1200_tours/min_bos...</td>\n",
       "      <td>850.32</td>\n",
       "    </tr>\n",
       "    <tr>\n",
       "      <th>3</th>\n",
       "      <td>decoration_interieure</td>\n",
       "      <td>crochets_escargots_rideau_goodhome_passe_tring...</td>\n",
       "      <td>1.40</td>\n",
       "      <td>tapis_shaggy_250x350_rectangle_fait_main_noise...</td>\n",
       "      <td>3129.88</td>\n",
       "    </tr>\n",
       "    <tr>\n",
       "      <th>4</th>\n",
       "      <td>droguerie_entretien_de_la_maison</td>\n",
       "      <td>recharge_tete_franges_coton_l.12_x_h.35_cm</td>\n",
       "      <td>1.60</td>\n",
       "      <td>serpilliere_electrique_karcher_ewm2_blanc</td>\n",
       "      <td>135.00</td>\n",
       "    </tr>\n",
       "    <tr>\n",
       "      <th>5</th>\n",
       "      <td>electricite</td>\n",
       "      <td>multiprise_3_prises_blanc_1_m_16a_3680w_230_v</td>\n",
       "      <td>2.75</td>\n",
       "      <td>projecteur_de_chantier_boch_18v_1900_lumens</td>\n",
       "      <td>119.00</td>\n",
       "    </tr>\n",
       "    <tr>\n",
       "      <th>6</th>\n",
       "      <td>jardin_et_terrasse</td>\n",
       "      <td>brosse_a_main_interieur_et_exterieur</td>\n",
       "      <td>2.29</td>\n",
       "      <td>balayeuse_aspirateur_pour_gazon_artificiel_rol...</td>\n",
       "      <td>279.00</td>\n",
       "    </tr>\n",
       "    <tr>\n",
       "      <th>7</th>\n",
       "      <td>luminaire_et_eclairage</td>\n",
       "      <td>spot_a_piquer_led_a_energie_solaire_ip44_0.06w...</td>\n",
       "      <td>0.90</td>\n",
       "      <td>zafferano_super_o_lampadaire_led_blanc_recharg...</td>\n",
       "      <td>675.00</td>\n",
       "    </tr>\n",
       "    <tr>\n",
       "      <th>8</th>\n",
       "      <td>maison_connectee_domotique_et_objet_connecte</td>\n",
       "      <td>controleur_wi_fi_konyks_pour_radiateurs_electr...</td>\n",
       "      <td>49.90</td>\n",
       "      <td>radiateur_electrique_double_coeur_de_chauffe_l...</td>\n",
       "      <td>1230.00</td>\n",
       "    </tr>\n",
       "    <tr>\n",
       "      <th>9</th>\n",
       "      <td>materiaux_et_gros_oeuvre</td>\n",
       "      <td>sachet_absorbeurs_d_humidite_20m²_500g</td>\n",
       "      <td>2.99</td>\n",
       "      <td>plaque_de_construction_a_carreler_en_mortier_d...</td>\n",
       "      <td>392.00</td>\n",
       "    </tr>\n",
       "    <tr>\n",
       "      <th>10</th>\n",
       "      <td>outillage</td>\n",
       "      <td>petit_sac_de_courses_reutilisable_45_x_45_cm_g...</td>\n",
       "      <td>0.90</td>\n",
       "      <td>compresseur_d_air_a_courroie_200_litres_4cv_3k...</td>\n",
       "      <td>998.00</td>\n",
       "    </tr>\n",
       "    <tr>\n",
       "      <th>11</th>\n",
       "      <td>peinture</td>\n",
       "      <td>testeur_peinture_cuisine_goodhome_gris_whistle...</td>\n",
       "      <td>2.18</td>\n",
       "      <td>peinture_de_renovation_mur_de_salle_de_bain_v3...</td>\n",
       "      <td>59.90</td>\n",
       "    </tr>\n",
       "    <tr>\n",
       "      <th>12</th>\n",
       "      <td>plomberie</td>\n",
       "      <td>manchette_de_reparation_male_femelle_fitt_ø25_...</td>\n",
       "      <td>1.90</td>\n",
       "      <td>caniveau_de_douche_decoupable_90_cm_hansgrohe_...</td>\n",
       "      <td>491.90</td>\n",
       "    </tr>\n",
       "    <tr>\n",
       "      <th>13</th>\n",
       "      <td>quincaillerie</td>\n",
       "      <td>gache_pour_pene_rond_a_visser_ø8_mm_acier_zing...</td>\n",
       "      <td>0.90</td>\n",
       "      <td>clavier_tactile_et_rfid_access_unit_2.0_9160336_s</td>\n",
       "      <td>1495.21</td>\n",
       "    </tr>\n",
       "    <tr>\n",
       "      <th>14</th>\n",
       "      <td>rangement_dressing</td>\n",
       "      <td>equerre_emboutie_en_acier_blanc_h._10_x_l._7_5_cm</td>\n",
       "      <td>0.50</td>\n",
       "      <td>meuble_range_bouteille_caviste._ilot_de_vente_...</td>\n",
       "      <td>3425.49</td>\n",
       "    </tr>\n",
       "    <tr>\n",
       "      <th>15</th>\n",
       "      <td>salle_de_bains_et_wc</td>\n",
       "      <td>porte_savon_goodhome_enfant_en_polystyrene_col...</td>\n",
       "      <td>1.00</td>\n",
       "      <td>baignoire_balneo_duo_en_acrylique_180_x_120_cm...</td>\n",
       "      <td>5890.00</td>\n",
       "    </tr>\n",
       "  </tbody>\n",
       "</table>\n",
       "</div>"
      ],
      "text/plain": [
       "                                        category  \\\n",
       "0                                  carrelage_sol   \n",
       "1         chauffage_climatisation_et_ventilation   \n",
       "2                                        cuisine   \n",
       "3                          decoration_interieure   \n",
       "4               droguerie_entretien_de_la_maison   \n",
       "5                                    electricite   \n",
       "6                             jardin_et_terrasse   \n",
       "7                         luminaire_et_eclairage   \n",
       "8   maison_connectee_domotique_et_objet_connecte   \n",
       "9                       materiaux_et_gros_oeuvre   \n",
       "10                                     outillage   \n",
       "11                                      peinture   \n",
       "12                                     plomberie   \n",
       "13                                 quincaillerie   \n",
       "14                            rangement_dressing   \n",
       "15                          salle_de_bains_et_wc   \n",
       "\n",
       "                                            title_min  price_min  \\\n",
       "0   decapant_laitance_et_voile_de_ciment_spado_pro...       6.99   \n",
       "1   pompe_manuelle_de_remplissage_pour_tous_fluide...       2.60   \n",
       "2   plan_de_travail_stratifie_aspect_chene_grise_g...      84.15   \n",
       "3   crochets_escargots_rideau_goodhome_passe_tring...       1.40   \n",
       "4          recharge_tete_franges_coton_l.12_x_h.35_cm       1.60   \n",
       "5       multiprise_3_prises_blanc_1_m_16a_3680w_230_v       2.75   \n",
       "6                brosse_a_main_interieur_et_exterieur       2.29   \n",
       "7   spot_a_piquer_led_a_energie_solaire_ip44_0.06w...       0.90   \n",
       "8   controleur_wi_fi_konyks_pour_radiateurs_electr...      49.90   \n",
       "9              sachet_absorbeurs_d_humidite_20m²_500g       2.99   \n",
       "10  petit_sac_de_courses_reutilisable_45_x_45_cm_g...       0.90   \n",
       "11  testeur_peinture_cuisine_goodhome_gris_whistle...       2.18   \n",
       "12  manchette_de_reparation_male_femelle_fitt_ø25_...       1.90   \n",
       "13  gache_pour_pene_rond_a_visser_ø8_mm_acier_zing...       0.90   \n",
       "14  equerre_emboutie_en_acier_blanc_h._10_x_l._7_5_cm       0.50   \n",
       "15  porte_savon_goodhome_enfant_en_polystyrene_col...       1.00   \n",
       "\n",
       "                                            title_max  price_max  \n",
       "0        protecteur_anti_taches_effet_naturel_fila_5l     189.00  \n",
       "1   poele_a_pellet_freepoint_zen_airtight_noir_9.3_kw    3190.00  \n",
       "2   lave_linge_hublot_60_cm_9kg_1200_tours/min_bos...     850.32  \n",
       "3   tapis_shaggy_250x350_rectangle_fait_main_noise...    3129.88  \n",
       "4           serpilliere_electrique_karcher_ewm2_blanc     135.00  \n",
       "5         projecteur_de_chantier_boch_18v_1900_lumens     119.00  \n",
       "6   balayeuse_aspirateur_pour_gazon_artificiel_rol...     279.00  \n",
       "7   zafferano_super_o_lampadaire_led_blanc_recharg...     675.00  \n",
       "8   radiateur_electrique_double_coeur_de_chauffe_l...    1230.00  \n",
       "9   plaque_de_construction_a_carreler_en_mortier_d...     392.00  \n",
       "10  compresseur_d_air_a_courroie_200_litres_4cv_3k...     998.00  \n",
       "11  peinture_de_renovation_mur_de_salle_de_bain_v3...      59.90  \n",
       "12  caniveau_de_douche_decoupable_90_cm_hansgrohe_...     491.90  \n",
       "13  clavier_tactile_et_rfid_access_unit_2.0_9160336_s    1495.21  \n",
       "14  meuble_range_bouteille_caviste._ilot_de_vente_...    3425.49  \n",
       "15  baignoire_balneo_duo_en_acrylique_180_x_120_cm...    5890.00  "
      ]
     },
     "execution_count": 115,
     "metadata": {},
     "output_type": "execute_result"
    }
   ],
   "source": [
    "# Get product details for the least and most expensive products by category\n",
    "min_products = prod_df.loc[prod_df.groupby('category')['price'].idxmin(), ['category', 'title', 'price']]\n",
    "max_products = prod_df.loc[prod_df.groupby('category')['price'].idxmax(), ['category', 'title', 'price']]\n",
    "\n",
    "# Merge min and max product details\n",
    "min_max_products = pd.merge(\n",
    "    min_products,\n",
    "    max_products,\n",
    "    on='category',\n",
    "    suffixes=('_min', '_max')\n",
    ")\n",
    "\n",
    "# Display table as dataframe\n",
    "pd.DataFrame(min_max_products)"
   ]
  },
  {
   "cell_type": "code",
   "execution_count": 20,
   "metadata": {},
   "outputs": [
    {
     "data": {
      "text/html": [
       "<div>\n",
       "<style scoped>\n",
       "    .dataframe tbody tr th:only-of-type {\n",
       "        vertical-align: middle;\n",
       "    }\n",
       "\n",
       "    .dataframe tbody tr th {\n",
       "        vertical-align: top;\n",
       "    }\n",
       "\n",
       "    .dataframe thead th {\n",
       "        text-align: right;\n",
       "    }\n",
       "</style>\n",
       "<table border=\"1\" class=\"dataframe\">\n",
       "  <thead>\n",
       "    <tr style=\"text-align: right;\">\n",
       "      <th></th>\n",
       "      <th>category</th>\n",
       "      <th>num_of_products</th>\n",
       "    </tr>\n",
       "  </thead>\n",
       "  <tbody>\n",
       "    <tr>\n",
       "      <th>0</th>\n",
       "      <td>carrelage_sol</td>\n",
       "      <td>49</td>\n",
       "    </tr>\n",
       "    <tr>\n",
       "      <th>1</th>\n",
       "      <td>chauffage_climatisation_et_ventilation</td>\n",
       "      <td>3692</td>\n",
       "    </tr>\n",
       "    <tr>\n",
       "      <th>2</th>\n",
       "      <td>cuisine</td>\n",
       "      <td>30</td>\n",
       "    </tr>\n",
       "    <tr>\n",
       "      <th>3</th>\n",
       "      <td>decoration_interieure</td>\n",
       "      <td>8276</td>\n",
       "    </tr>\n",
       "    <tr>\n",
       "      <th>4</th>\n",
       "      <td>droguerie_entretien_de_la_maison</td>\n",
       "      <td>523</td>\n",
       "    </tr>\n",
       "    <tr>\n",
       "      <th>5</th>\n",
       "      <td>electricite</td>\n",
       "      <td>221</td>\n",
       "    </tr>\n",
       "    <tr>\n",
       "      <th>6</th>\n",
       "      <td>jardin_et_terrasse</td>\n",
       "      <td>394</td>\n",
       "    </tr>\n",
       "    <tr>\n",
       "      <th>7</th>\n",
       "      <td>luminaire_et_eclairage</td>\n",
       "      <td>540</td>\n",
       "    </tr>\n",
       "    <tr>\n",
       "      <th>8</th>\n",
       "      <td>maison_connectee_domotique_et_objet_connecte</td>\n",
       "      <td>96</td>\n",
       "    </tr>\n",
       "    <tr>\n",
       "      <th>9</th>\n",
       "      <td>materiaux_et_gros_oeuvre</td>\n",
       "      <td>62</td>\n",
       "    </tr>\n",
       "    <tr>\n",
       "      <th>10</th>\n",
       "      <td>outillage</td>\n",
       "      <td>455</td>\n",
       "    </tr>\n",
       "    <tr>\n",
       "      <th>11</th>\n",
       "      <td>peinture</td>\n",
       "      <td>179</td>\n",
       "    </tr>\n",
       "    <tr>\n",
       "      <th>12</th>\n",
       "      <td>plomberie</td>\n",
       "      <td>302</td>\n",
       "    </tr>\n",
       "    <tr>\n",
       "      <th>13</th>\n",
       "      <td>quincaillerie</td>\n",
       "      <td>666</td>\n",
       "    </tr>\n",
       "    <tr>\n",
       "      <th>14</th>\n",
       "      <td>rangement_dressing</td>\n",
       "      <td>4373</td>\n",
       "    </tr>\n",
       "    <tr>\n",
       "      <th>15</th>\n",
       "      <td>salle_de_bains_et_wc</td>\n",
       "      <td>8450</td>\n",
       "    </tr>\n",
       "  </tbody>\n",
       "</table>\n",
       "</div>"
      ],
      "text/plain": [
       "                                        category  num_of_products\n",
       "0                                  carrelage_sol               49\n",
       "1         chauffage_climatisation_et_ventilation             3692\n",
       "2                                        cuisine               30\n",
       "3                          decoration_interieure             8276\n",
       "4               droguerie_entretien_de_la_maison              523\n",
       "5                                    electricite              221\n",
       "6                             jardin_et_terrasse              394\n",
       "7                         luminaire_et_eclairage              540\n",
       "8   maison_connectee_domotique_et_objet_connecte               96\n",
       "9                       materiaux_et_gros_oeuvre               62\n",
       "10                                     outillage              455\n",
       "11                                      peinture              179\n",
       "12                                     plomberie              302\n",
       "13                                 quincaillerie              666\n",
       "14                            rangement_dressing             4373\n",
       "15                          salle_de_bains_et_wc             8450"
      ]
     },
     "execution_count": 20,
     "metadata": {},
     "output_type": "execute_result"
    }
   ],
   "source": [
    "products_len_df"
   ]
  },
  {
   "cell_type": "code",
   "execution_count": 52,
   "metadata": {},
   "outputs": [],
   "source": [
    "# Calculate the size of each category\n",
    "category_counts = prod_df.groupby('category').size()\n",
    "\n",
    "# Filter for categories with more than 200 products\n",
    "categories_to_keep = category_counts[category_counts > 500].index\n",
    "\n",
    "# Filter the original DataFrame\n",
    "filtered_df = prod_df[prod_df['category'].isin(categories_to_keep)]\n",
    "\n",
    "#  Select the first 200 rows per category\n",
    "\n",
    "filtered_df = (\n",
    "    filtered_df.sort_values(by=['category', 'price'])  # Sort by category and optionally by price\n",
    "    .groupby('category')                              # Group by category\n",
    "    .head(500)                                        # Take the first 200 rows per category\n",
    ")\n"
   ]
  },
  {
   "cell_type": "code",
   "execution_count": 53,
   "metadata": {},
   "outputs": [
    {
     "data": {
      "text/plain": [
       "Index(['chauffage_climatisation_et_ventilation', 'decoration_interieure',\n",
       "       'droguerie_entretien_de_la_maison', 'luminaire_et_eclairage',\n",
       "       'quincaillerie', 'rangement_dressing', 'salle_de_bains_et_wc'],\n",
       "      dtype='object', name='category')"
      ]
     },
     "execution_count": 53,
     "metadata": {},
     "output_type": "execute_result"
    }
   ],
   "source": [
    "categories_to_keep"
   ]
  },
  {
   "cell_type": "code",
   "execution_count": 54,
   "metadata": {},
   "outputs": [],
   "source": [
    "columns_to_drop = ['unique_id', 'subcategory', 'subsubcategory', 'subsubsubcategory', 'title', 'url']\n",
    "\n",
    "filtered_df = filtered_df.drop(columns_to_drop, axis=1)"
   ]
  },
  {
   "cell_type": "code",
   "execution_count": 55,
   "metadata": {},
   "outputs": [
    {
     "data": {
      "text/html": [
       "<div>\n",
       "<style scoped>\n",
       "    .dataframe tbody tr th:only-of-type {\n",
       "        vertical-align: middle;\n",
       "    }\n",
       "\n",
       "    .dataframe tbody tr th {\n",
       "        vertical-align: top;\n",
       "    }\n",
       "\n",
       "    .dataframe thead th {\n",
       "        text-align: right;\n",
       "    }\n",
       "</style>\n",
       "<table border=\"1\" class=\"dataframe\">\n",
       "  <thead>\n",
       "    <tr style=\"text-align: right;\">\n",
       "      <th>category</th>\n",
       "      <th>chauffage_climatisation_et_ventilation</th>\n",
       "      <th>decoration_interieure</th>\n",
       "      <th>droguerie_entretien_de_la_maison</th>\n",
       "      <th>luminaire_et_eclairage</th>\n",
       "      <th>quincaillerie</th>\n",
       "      <th>rangement_dressing</th>\n",
       "      <th>salle_de_bains_et_wc</th>\n",
       "    </tr>\n",
       "  </thead>\n",
       "  <tbody>\n",
       "    <tr>\n",
       "      <th>0</th>\n",
       "      <td>2.60</td>\n",
       "      <td>1.40</td>\n",
       "      <td>1.60</td>\n",
       "      <td>0.90</td>\n",
       "      <td>0.9</td>\n",
       "      <td>0.50</td>\n",
       "      <td>1.00</td>\n",
       "    </tr>\n",
       "    <tr>\n",
       "      <th>1</th>\n",
       "      <td>2.69</td>\n",
       "      <td>1.50</td>\n",
       "      <td>1.95</td>\n",
       "      <td>7.90</td>\n",
       "      <td>0.9</td>\n",
       "      <td>0.50</td>\n",
       "      <td>1.50</td>\n",
       "    </tr>\n",
       "    <tr>\n",
       "      <th>2</th>\n",
       "      <td>2.74</td>\n",
       "      <td>1.90</td>\n",
       "      <td>2.19</td>\n",
       "      <td>8.90</td>\n",
       "      <td>0.9</td>\n",
       "      <td>0.75</td>\n",
       "      <td>2.00</td>\n",
       "    </tr>\n",
       "    <tr>\n",
       "      <th>3</th>\n",
       "      <td>2.90</td>\n",
       "      <td>1.95</td>\n",
       "      <td>2.49</td>\n",
       "      <td>9.73</td>\n",
       "      <td>0.9</td>\n",
       "      <td>1.00</td>\n",
       "      <td>2.45</td>\n",
       "    </tr>\n",
       "    <tr>\n",
       "      <th>4</th>\n",
       "      <td>2.90</td>\n",
       "      <td>2.50</td>\n",
       "      <td>2.59</td>\n",
       "      <td>9.90</td>\n",
       "      <td>1.0</td>\n",
       "      <td>1.00</td>\n",
       "      <td>2.60</td>\n",
       "    </tr>\n",
       "    <tr>\n",
       "      <th>...</th>\n",
       "      <td>...</td>\n",
       "      <td>...</td>\n",
       "      <td>...</td>\n",
       "      <td>...</td>\n",
       "      <td>...</td>\n",
       "      <td>...</td>\n",
       "      <td>...</td>\n",
       "    </tr>\n",
       "    <tr>\n",
       "      <th>495</th>\n",
       "      <td>29.90</td>\n",
       "      <td>11.90</td>\n",
       "      <td>25.90</td>\n",
       "      <td>129.72</td>\n",
       "      <td>27.9</td>\n",
       "      <td>11.90</td>\n",
       "      <td>12.50</td>\n",
       "    </tr>\n",
       "    <tr>\n",
       "      <th>496</th>\n",
       "      <td>29.90</td>\n",
       "      <td>11.90</td>\n",
       "      <td>25.90</td>\n",
       "      <td>130.82</td>\n",
       "      <td>27.9</td>\n",
       "      <td>11.90</td>\n",
       "      <td>12.50</td>\n",
       "    </tr>\n",
       "    <tr>\n",
       "      <th>497</th>\n",
       "      <td>29.90</td>\n",
       "      <td>11.90</td>\n",
       "      <td>26.90</td>\n",
       "      <td>130.82</td>\n",
       "      <td>27.9</td>\n",
       "      <td>11.90</td>\n",
       "      <td>12.50</td>\n",
       "    </tr>\n",
       "    <tr>\n",
       "      <th>498</th>\n",
       "      <td>29.90</td>\n",
       "      <td>11.90</td>\n",
       "      <td>27.90</td>\n",
       "      <td>131.00</td>\n",
       "      <td>27.9</td>\n",
       "      <td>11.90</td>\n",
       "      <td>12.50</td>\n",
       "    </tr>\n",
       "    <tr>\n",
       "      <th>499</th>\n",
       "      <td>29.90</td>\n",
       "      <td>11.90</td>\n",
       "      <td>27.90</td>\n",
       "      <td>131.00</td>\n",
       "      <td>27.9</td>\n",
       "      <td>11.90</td>\n",
       "      <td>12.54</td>\n",
       "    </tr>\n",
       "  </tbody>\n",
       "</table>\n",
       "<p>500 rows × 7 columns</p>\n",
       "</div>"
      ],
      "text/plain": [
       "category  chauffage_climatisation_et_ventilation  decoration_interieure  \\\n",
       "0                                           2.60                   1.40   \n",
       "1                                           2.69                   1.50   \n",
       "2                                           2.74                   1.90   \n",
       "3                                           2.90                   1.95   \n",
       "4                                           2.90                   2.50   \n",
       "..                                           ...                    ...   \n",
       "495                                        29.90                  11.90   \n",
       "496                                        29.90                  11.90   \n",
       "497                                        29.90                  11.90   \n",
       "498                                        29.90                  11.90   \n",
       "499                                        29.90                  11.90   \n",
       "\n",
       "category  droguerie_entretien_de_la_maison  luminaire_et_eclairage  \\\n",
       "0                                     1.60                    0.90   \n",
       "1                                     1.95                    7.90   \n",
       "2                                     2.19                    8.90   \n",
       "3                                     2.49                    9.73   \n",
       "4                                     2.59                    9.90   \n",
       "..                                     ...                     ...   \n",
       "495                                  25.90                  129.72   \n",
       "496                                  25.90                  130.82   \n",
       "497                                  26.90                  130.82   \n",
       "498                                  27.90                  131.00   \n",
       "499                                  27.90                  131.00   \n",
       "\n",
       "category  quincaillerie  rangement_dressing  salle_de_bains_et_wc  \n",
       "0                   0.9                0.50                  1.00  \n",
       "1                   0.9                0.50                  1.50  \n",
       "2                   0.9                0.75                  2.00  \n",
       "3                   0.9                1.00                  2.45  \n",
       "4                   1.0                1.00                  2.60  \n",
       "..                  ...                 ...                   ...  \n",
       "495                27.9               11.90                 12.50  \n",
       "496                27.9               11.90                 12.50  \n",
       "497                27.9               11.90                 12.50  \n",
       "498                27.9               11.90                 12.50  \n",
       "499                27.9               11.90                 12.54  \n",
       "\n",
       "[500 rows x 7 columns]"
      ]
     },
     "execution_count": 55,
     "metadata": {},
     "output_type": "execute_result"
    }
   ],
   "source": [
    "# Reset the index to ensure sequential indexing\n",
    "filtered_df = filtered_df.reset_index(drop=True)\n",
    "\n",
    "# Create pivot table\n",
    "pivoted = filtered_df.pivot_table(index=filtered_df.index % 500, columns='category', values='price', aggfunc='first')\n",
    "\n",
    "pivoted"
   ]
  },
  {
   "cell_type": "code",
   "execution_count": 56,
   "metadata": {},
   "outputs": [],
   "source": [
    "category_corr = pivoted.corr()"
   ]
  },
  {
   "cell_type": "code",
   "execution_count": 57,
   "metadata": {},
   "outputs": [
    {
     "data": {
      "text/html": [
       "<div>\n",
       "<style scoped>\n",
       "    .dataframe tbody tr th:only-of-type {\n",
       "        vertical-align: middle;\n",
       "    }\n",
       "\n",
       "    .dataframe tbody tr th {\n",
       "        vertical-align: top;\n",
       "    }\n",
       "\n",
       "    .dataframe thead th {\n",
       "        text-align: right;\n",
       "    }\n",
       "</style>\n",
       "<table border=\"1\" class=\"dataframe\">\n",
       "  <thead>\n",
       "    <tr style=\"text-align: right;\">\n",
       "      <th>category</th>\n",
       "      <th>chauffage_climatisation_et_ventilation</th>\n",
       "      <th>decoration_interieure</th>\n",
       "      <th>droguerie_entretien_de_la_maison</th>\n",
       "      <th>luminaire_et_eclairage</th>\n",
       "      <th>quincaillerie</th>\n",
       "      <th>rangement_dressing</th>\n",
       "      <th>salle_de_bains_et_wc</th>\n",
       "    </tr>\n",
       "    <tr>\n",
       "      <th>category</th>\n",
       "      <th></th>\n",
       "      <th></th>\n",
       "      <th></th>\n",
       "      <th></th>\n",
       "      <th></th>\n",
       "      <th></th>\n",
       "      <th></th>\n",
       "    </tr>\n",
       "  </thead>\n",
       "  <tbody>\n",
       "    <tr>\n",
       "      <th>chauffage_climatisation_et_ventilation</th>\n",
       "      <td>1.000000</td>\n",
       "      <td>0.946419</td>\n",
       "      <td>0.972771</td>\n",
       "      <td>0.981263</td>\n",
       "      <td>0.976670</td>\n",
       "      <td>0.991650</td>\n",
       "      <td>0.943146</td>\n",
       "    </tr>\n",
       "    <tr>\n",
       "      <th>decoration_interieure</th>\n",
       "      <td>0.946419</td>\n",
       "      <td>1.000000</td>\n",
       "      <td>0.881872</td>\n",
       "      <td>0.885928</td>\n",
       "      <td>0.874006</td>\n",
       "      <td>0.940765</td>\n",
       "      <td>0.979866</td>\n",
       "    </tr>\n",
       "    <tr>\n",
       "      <th>droguerie_entretien_de_la_maison</th>\n",
       "      <td>0.972771</td>\n",
       "      <td>0.881872</td>\n",
       "      <td>1.000000</td>\n",
       "      <td>0.986037</td>\n",
       "      <td>0.991414</td>\n",
       "      <td>0.966606</td>\n",
       "      <td>0.868073</td>\n",
       "    </tr>\n",
       "    <tr>\n",
       "      <th>luminaire_et_eclairage</th>\n",
       "      <td>0.981263</td>\n",
       "      <td>0.885928</td>\n",
       "      <td>0.986037</td>\n",
       "      <td>1.000000</td>\n",
       "      <td>0.995122</td>\n",
       "      <td>0.982200</td>\n",
       "      <td>0.876335</td>\n",
       "    </tr>\n",
       "    <tr>\n",
       "      <th>quincaillerie</th>\n",
       "      <td>0.976670</td>\n",
       "      <td>0.874006</td>\n",
       "      <td>0.991414</td>\n",
       "      <td>0.995122</td>\n",
       "      <td>1.000000</td>\n",
       "      <td>0.972735</td>\n",
       "      <td>0.862434</td>\n",
       "    </tr>\n",
       "    <tr>\n",
       "      <th>rangement_dressing</th>\n",
       "      <td>0.991650</td>\n",
       "      <td>0.940765</td>\n",
       "      <td>0.966606</td>\n",
       "      <td>0.982200</td>\n",
       "      <td>0.972735</td>\n",
       "      <td>1.000000</td>\n",
       "      <td>0.938682</td>\n",
       "    </tr>\n",
       "    <tr>\n",
       "      <th>salle_de_bains_et_wc</th>\n",
       "      <td>0.943146</td>\n",
       "      <td>0.979866</td>\n",
       "      <td>0.868073</td>\n",
       "      <td>0.876335</td>\n",
       "      <td>0.862434</td>\n",
       "      <td>0.938682</td>\n",
       "      <td>1.000000</td>\n",
       "    </tr>\n",
       "  </tbody>\n",
       "</table>\n",
       "</div>"
      ],
      "text/plain": [
       "category                                chauffage_climatisation_et_ventilation  \\\n",
       "category                                                                         \n",
       "chauffage_climatisation_et_ventilation                                1.000000   \n",
       "decoration_interieure                                                 0.946419   \n",
       "droguerie_entretien_de_la_maison                                      0.972771   \n",
       "luminaire_et_eclairage                                                0.981263   \n",
       "quincaillerie                                                         0.976670   \n",
       "rangement_dressing                                                    0.991650   \n",
       "salle_de_bains_et_wc                                                  0.943146   \n",
       "\n",
       "category                                decoration_interieure  \\\n",
       "category                                                        \n",
       "chauffage_climatisation_et_ventilation               0.946419   \n",
       "decoration_interieure                                1.000000   \n",
       "droguerie_entretien_de_la_maison                     0.881872   \n",
       "luminaire_et_eclairage                               0.885928   \n",
       "quincaillerie                                        0.874006   \n",
       "rangement_dressing                                   0.940765   \n",
       "salle_de_bains_et_wc                                 0.979866   \n",
       "\n",
       "category                                droguerie_entretien_de_la_maison  \\\n",
       "category                                                                   \n",
       "chauffage_climatisation_et_ventilation                          0.972771   \n",
       "decoration_interieure                                           0.881872   \n",
       "droguerie_entretien_de_la_maison                                1.000000   \n",
       "luminaire_et_eclairage                                          0.986037   \n",
       "quincaillerie                                                   0.991414   \n",
       "rangement_dressing                                              0.966606   \n",
       "salle_de_bains_et_wc                                            0.868073   \n",
       "\n",
       "category                                luminaire_et_eclairage  quincaillerie  \\\n",
       "category                                                                        \n",
       "chauffage_climatisation_et_ventilation                0.981263       0.976670   \n",
       "decoration_interieure                                 0.885928       0.874006   \n",
       "droguerie_entretien_de_la_maison                      0.986037       0.991414   \n",
       "luminaire_et_eclairage                                1.000000       0.995122   \n",
       "quincaillerie                                         0.995122       1.000000   \n",
       "rangement_dressing                                    0.982200       0.972735   \n",
       "salle_de_bains_et_wc                                  0.876335       0.862434   \n",
       "\n",
       "category                                rangement_dressing  \\\n",
       "category                                                     \n",
       "chauffage_climatisation_et_ventilation            0.991650   \n",
       "decoration_interieure                             0.940765   \n",
       "droguerie_entretien_de_la_maison                  0.966606   \n",
       "luminaire_et_eclairage                            0.982200   \n",
       "quincaillerie                                     0.972735   \n",
       "rangement_dressing                                1.000000   \n",
       "salle_de_bains_et_wc                              0.938682   \n",
       "\n",
       "category                                salle_de_bains_et_wc  \n",
       "category                                                      \n",
       "chauffage_climatisation_et_ventilation              0.943146  \n",
       "decoration_interieure                               0.979866  \n",
       "droguerie_entretien_de_la_maison                    0.868073  \n",
       "luminaire_et_eclairage                              0.876335  \n",
       "quincaillerie                                       0.862434  \n",
       "rangement_dressing                                  0.938682  \n",
       "salle_de_bains_et_wc                                1.000000  "
      ]
     },
     "execution_count": 57,
     "metadata": {},
     "output_type": "execute_result"
    }
   ],
   "source": [
    "# pd.reset_option('display.max_colwidth')\n",
    "category_corr"
   ]
  },
  {
   "cell_type": "code",
   "execution_count": 59,
   "metadata": {},
   "outputs": [
    {
     "data": {
      "image/png": "[encoded data removed]",
      "text/plain": [
       "<Figure size 800x600 with 2 Axes>"
      ]
     },
     "metadata": {},
     "output_type": "display_data"
    }
   ],
   "source": [
    "plt.figure(figsize=(8, 6))\n",
    "sns.heatmap(category_corr.select_dtypes('number').corr(), \n",
    "            annot=True,\n",
    "            cmap=\"Blues\",\n",
    "            fmt=\".2f\",\n",
    "            linewidths=.5)\n",
    "\n",
    "plt.title(\"Heatmap of correlation matrix\")\n",
    "plt.show()"
   ]
  }
 ],
 "metadata": {
  "kernelspec": {
   "display_name": ".venv",
   "language": "python",
   "name": "python3"
  },
  "language_info": {
   "codemirror_mode": {
    "name": "ipython",
    "version": 3
   },
   "file_extension": ".py",
   "mimetype": "text/x-python",
   "name": "python",
   "nbconvert_exporter": "python",
   "pygments_lexer": "ipython3",
   "version": "3.12.3"
  }
 },
 "nbformat": 4,
 "nbformat_minor": 2
}
